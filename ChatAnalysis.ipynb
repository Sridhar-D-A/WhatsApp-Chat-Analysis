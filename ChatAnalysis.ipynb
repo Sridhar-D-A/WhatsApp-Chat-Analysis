{
 "cells": [
  {
   "cell_type": "markdown",
   "metadata": {},
   "source": [
    "#                                        WhatsApp Group Chat Analysis"
   ]
  },
  {
   "cell_type": "code",
   "execution_count": 1,
   "metadata": {},
   "outputs": [],
   "source": [
    "import re\n",
    "import pandas as pd\n",
    "import matplotlib.pyplot as plt"
   ]
  },
  {
   "cell_type": "code",
   "execution_count": 2,
   "metadata": {},
   "outputs": [],
   "source": [
    "def startsWithDate(line):\n",
    "    pattern = '^([0-9]+)(\\/)([0-9]+)(\\/)([0-9]+), ([0-9]+):([0-9][0-9])'\n",
    "    result = re.match(pattern, line)\n",
    "    if result:\n",
    "        return True\n",
    "    return False"
   ]
  },
  {
   "cell_type": "code",
   "execution_count": 3,
   "metadata": {},
   "outputs": [],
   "source": [
    "def separationOfData(lines):\n",
    "    data , time , author , halfMessage , authorAction = None , None , None , None , None\n",
    "    line = lines.split('-')\n",
    "    dateTime = line[0]\n",
    "    date , time = dateTime.split(',')\n",
    "    # print(date , time)\n",
    "    authorMessage = line[1]\n",
    "    if ': ' in authorMessage:\n",
    "        authorMessage = authorMessage.split(': ')\n",
    "        author = authorMessage[0]\n",
    "        halfMessage = ''.join(authorMessage[1:])\n",
    "\n",
    "    else:\n",
    "        authorAction = line[1]\n",
    "\n",
    "    return date , time , author , halfMessage ,authorAction"
   ]
  },
  {
   "cell_type": "code",
   "execution_count": 4,
   "metadata": {},
   "outputs": [],
   "source": [
    "intermediate =[]\n",
    "finalData  = []\n",
    "def joinMultiLines(lines):\n",
    "    if startsWithDate(lines) and intermediate:\n",
    "        finalData.append(' '.join(intermediate))\n",
    "        intermediate.clear()\n",
    "    intermediate.append(lines)\n",
    "    return finalData"
   ]
  },
  {
   "cell_type": "code",
   "execution_count": 5,
   "metadata": {},
   "outputs": [],
   "source": [
    "chatFile = open('ChatConversation.txt', 'r' , encoding=\"utf8\")\n",
    "\n",
    "for lines in chatFile:\n",
    "    multiLineList = joinMultiLines(lines)"
   ]
  },
  {
   "cell_type": "code",
   "execution_count": 6,
   "metadata": {},
   "outputs": [],
   "source": [
    "chatList = []\n",
    "for element in multiLineList:\n",
    "    date , time , author , message , authorAction = separationOfData(element)\n",
    "    chatList.append([date,time,author,message,authorAction])"
   ]
  },
  {
   "cell_type": "code",
   "execution_count": 7,
   "metadata": {
    "collapsed": true
   },
   "outputs": [
    {
     "data": {
      "text/html": [
       "<div>\n",
       "<style scoped>\n",
       "    .dataframe tbody tr th:only-of-type {\n",
       "        vertical-align: middle;\n",
       "    }\n",
       "\n",
       "    .dataframe tbody tr th {\n",
       "        vertical-align: top;\n",
       "    }\n",
       "\n",
       "    .dataframe thead th {\n",
       "        text-align: right;\n",
       "    }\n",
       "</style>\n",
       "<table border=\"1\" class=\"dataframe\">\n",
       "  <thead>\n",
       "    <tr style=\"text-align: right;\">\n",
       "      <th></th>\n",
       "      <th>Date</th>\n",
       "      <th>Time</th>\n",
       "      <th>Author</th>\n",
       "      <th>Message</th>\n",
       "      <th>AuthorAction</th>\n",
       "    </tr>\n",
       "  </thead>\n",
       "  <tbody>\n",
       "    <tr>\n",
       "      <td>0</td>\n",
       "      <td>7/15/16</td>\n",
       "      <td>19:27</td>\n",
       "      <td>Nandhakumar Muthusamy</td>\n",
       "      <td>Kekka nalla than iruuku da. Padravanga kastam ...</td>\n",
       "      <td>None</td>\n",
       "    </tr>\n",
       "    <tr>\n",
       "      <td>1</td>\n",
       "      <td>7/22/16</td>\n",
       "      <td>10:19</td>\n",
       "      <td>Nandhakumar Muthusamy</td>\n",
       "      <td>Ok. Here too 28$ for today\\n</td>\n",
       "      <td>None</td>\n",
       "    </tr>\n",
       "    <tr>\n",
       "      <td>2</td>\n",
       "      <td>7/22/16</td>\n",
       "      <td>10:19</td>\n",
       "      <td>Nandhakumar Muthusamy</td>\n",
       "      <td>From tomorrow 20$\\n</td>\n",
       "      <td>None</td>\n",
       "    </tr>\n",
       "    <tr>\n",
       "      <td>3</td>\n",
       "      <td>7/22/16</td>\n",
       "      <td>10:19</td>\n",
       "      <td>Uma Gurusamy</td>\n",
       "      <td>No mams. Athulam summa scene podranga. But com...</td>\n",
       "      <td>None</td>\n",
       "    </tr>\n",
       "    <tr>\n",
       "      <td>4</td>\n",
       "      <td>7/22/16</td>\n",
       "      <td>10:20</td>\n",
       "      <td>Uma Gurusamy</td>\n",
       "      <td>U ppl are planning to go ah mama\\n</td>\n",
       "      <td>None</td>\n",
       "    </tr>\n",
       "  </tbody>\n",
       "</table>\n",
       "</div>"
      ],
      "text/plain": [
       "      Date     Time                  Author  \\\n",
       "0  7/15/16   19:27    Nandhakumar Muthusamy   \n",
       "1  7/22/16   10:19    Nandhakumar Muthusamy   \n",
       "2  7/22/16   10:19    Nandhakumar Muthusamy   \n",
       "3  7/22/16   10:19             Uma Gurusamy   \n",
       "4  7/22/16   10:20             Uma Gurusamy   \n",
       "\n",
       "                                             Message AuthorAction  \n",
       "0  Kekka nalla than iruuku da. Padravanga kastam ...         None  \n",
       "1                       Ok. Here too 28$ for today\\n         None  \n",
       "2                                From tomorrow 20$\\n         None  \n",
       "3  No mams. Athulam summa scene podranga. But com...         None  \n",
       "4                 U ppl are planning to go ah mama\\n         None  "
      ]
     },
     "execution_count": 7,
     "metadata": {},
     "output_type": "execute_result"
    }
   ],
   "source": [
    "chatDataframe = pd.DataFrame(chatList , columns = ['Date','Time','Author','Message','AuthorAction'])\n",
    "chatDataframe.head()"
   ]
  },
  {
   "cell_type": "code",
   "execution_count": 8,
   "metadata": {
    "collapsed": true
   },
   "outputs": [
    {
     "data": {
      "text/html": [
       "<div>\n",
       "<style scoped>\n",
       "    .dataframe tbody tr th:only-of-type {\n",
       "        vertical-align: middle;\n",
       "    }\n",
       "\n",
       "    .dataframe tbody tr th {\n",
       "        vertical-align: top;\n",
       "    }\n",
       "\n",
       "    .dataframe thead th {\n",
       "        text-align: right;\n",
       "    }\n",
       "</style>\n",
       "<table border=\"1\" class=\"dataframe\">\n",
       "  <thead>\n",
       "    <tr style=\"text-align: right;\">\n",
       "      <th></th>\n",
       "      <th>Date</th>\n",
       "      <th>Time</th>\n",
       "      <th>Author</th>\n",
       "      <th>Message</th>\n",
       "      <th>AuthorAction</th>\n",
       "    </tr>\n",
       "  </thead>\n",
       "  <tbody>\n",
       "    <tr>\n",
       "      <td>8263</td>\n",
       "      <td>9/11/20</td>\n",
       "      <td>21:15</td>\n",
       "      <td>Uma Gurusamy</td>\n",
       "      <td>Super. 🥰\\n</td>\n",
       "      <td>None</td>\n",
       "    </tr>\n",
       "    <tr>\n",
       "      <td>8264</td>\n",
       "      <td>9/11/20</td>\n",
       "      <td>21:18</td>\n",
       "      <td>Prameela Gurusamy</td>\n",
       "      <td>This message was deleted\\n</td>\n",
       "      <td>None</td>\n",
       "    </tr>\n",
       "    <tr>\n",
       "      <td>8265</td>\n",
       "      <td>9/11/20</td>\n",
       "      <td>21:33</td>\n",
       "      <td>Angulakshmi Dhandapani</td>\n",
       "      <td>Super da\\n</td>\n",
       "      <td>None</td>\n",
       "    </tr>\n",
       "    <tr>\n",
       "      <td>8266</td>\n",
       "      <td>9/11/20</td>\n",
       "      <td>21:39</td>\n",
       "      <td>Angulakshmi Dhandapani</td>\n",
       "      <td>Rochit  kutty super\\n</td>\n",
       "      <td>None</td>\n",
       "    </tr>\n",
       "    <tr>\n",
       "      <td>8267</td>\n",
       "      <td>9/11/20</td>\n",
       "      <td>22:04</td>\n",
       "      <td>AmshaPriya Nandhakumar</td>\n",
       "      <td>Dimple kutty cute\\n</td>\n",
       "      <td>None</td>\n",
       "    </tr>\n",
       "  </tbody>\n",
       "</table>\n",
       "</div>"
      ],
      "text/plain": [
       "         Date     Time                   Author                     Message  \\\n",
       "8263  9/11/20   21:15              Uma Gurusamy                  Super. 🥰\\n   \n",
       "8264  9/11/20   21:18         Prameela Gurusamy  This message was deleted\\n   \n",
       "8265  9/11/20   21:33    Angulakshmi Dhandapani                  Super da\\n   \n",
       "8266  9/11/20   21:39    Angulakshmi Dhandapani       Rochit  kutty super\\n   \n",
       "8267  9/11/20   22:04    AmshaPriya Nandhakumar         Dimple kutty cute\\n   \n",
       "\n",
       "     AuthorAction  \n",
       "8263         None  \n",
       "8264         None  \n",
       "8265         None  \n",
       "8266         None  \n",
       "8267         None  "
      ]
     },
     "execution_count": 8,
     "metadata": {},
     "output_type": "execute_result"
    }
   ],
   "source": [
    "chatDataframe.tail()"
   ]
  },
  {
   "cell_type": "code",
   "execution_count": 9,
   "metadata": {
    "collapsed": true
   },
   "outputs": [
    {
     "data": {
      "text/plain": [
       "[' Nandhakumar Muthusamy',\n",
       " ' Uma Gurusamy',\n",
       " ' AmshaPriya Nandhakumar',\n",
       " ' Sri',\n",
       " ' Rama Prabha Gurusamy',\n",
       " ' Ammayi Airtel',\n",
       " ' Prameela Gurusamy',\n",
       " ' Thatha',\n",
       " ' Angulakshmi Dhandapani',\n",
       " ' Ammayi']"
      ]
     },
     "execution_count": 9,
     "metadata": {},
     "output_type": "execute_result"
    }
   ],
   "source": [
    "Authors = list(filter(None,chatDataframe['Author'].unique()))\n",
    "Authors"
   ]
  },
  {
   "cell_type": "code",
   "execution_count": 10,
   "metadata": {
    "scrolled": true
   },
   "outputs": [
    {
     "data": {
      "text/html": [
       "<div>\n",
       "<style scoped>\n",
       "    .dataframe tbody tr th:only-of-type {\n",
       "        vertical-align: middle;\n",
       "    }\n",
       "\n",
       "    .dataframe tbody tr th {\n",
       "        vertical-align: top;\n",
       "    }\n",
       "\n",
       "    .dataframe thead th {\n",
       "        text-align: right;\n",
       "    }\n",
       "</style>\n",
       "<table border=\"1\" class=\"dataframe\">\n",
       "  <thead>\n",
       "    <tr style=\"text-align: right;\">\n",
       "      <th></th>\n",
       "      <th>Date</th>\n",
       "      <th>Time</th>\n",
       "      <th>Author</th>\n",
       "      <th>Message</th>\n",
       "      <th>AuthorAction</th>\n",
       "    </tr>\n",
       "  </thead>\n",
       "  <tbody>\n",
       "    <tr>\n",
       "      <td>446</td>\n",
       "      <td>9/7/16</td>\n",
       "      <td>21:45</td>\n",
       "      <td>None</td>\n",
       "      <td>None</td>\n",
       "      <td>Uma Gurusamy's security code changed. Tap for...</td>\n",
       "    </tr>\n",
       "    <tr>\n",
       "      <td>450</td>\n",
       "      <td>9/11/16</td>\n",
       "      <td>20:08</td>\n",
       "      <td>None</td>\n",
       "      <td>None</td>\n",
       "      <td>Uma Gurusamy's security code changed. Tap for...</td>\n",
       "    </tr>\n",
       "    <tr>\n",
       "      <td>719</td>\n",
       "      <td>10/9/16</td>\n",
       "      <td>15:47</td>\n",
       "      <td>None</td>\n",
       "      <td>None</td>\n",
       "      <td>AmshaPriya Nandhakumar's security code change...</td>\n",
       "    </tr>\n",
       "    <tr>\n",
       "      <td>720</td>\n",
       "      <td>10/10/16</td>\n",
       "      <td>20:15</td>\n",
       "      <td>None</td>\n",
       "      <td>None</td>\n",
       "      <td>AmshaPriya Nandhakumar added Prameela Gurusamy\\n</td>\n",
       "    </tr>\n",
       "    <tr>\n",
       "      <td>848</td>\n",
       "      <td>11/14/16</td>\n",
       "      <td>08:33</td>\n",
       "      <td>None</td>\n",
       "      <td>None</td>\n",
       "      <td>Uma Gurusamy's security code changed. Tap for...</td>\n",
       "    </tr>\n",
       "  </tbody>\n",
       "</table>\n",
       "</div>"
      ],
      "text/plain": [
       "         Date     Time Author Message  \\\n",
       "446    9/7/16   21:45    None    None   \n",
       "450   9/11/16   20:08    None    None   \n",
       "719   10/9/16   15:47    None    None   \n",
       "720  10/10/16   20:15    None    None   \n",
       "848  11/14/16   08:33    None    None   \n",
       "\n",
       "                                          AuthorAction  \n",
       "446   Uma Gurusamy's security code changed. Tap for...  \n",
       "450   Uma Gurusamy's security code changed. Tap for...  \n",
       "719   AmshaPriya Nandhakumar's security code change...  \n",
       "720   AmshaPriya Nandhakumar added Prameela Gurusamy\\n  \n",
       "848   Uma Gurusamy's security code changed. Tap for...  "
      ]
     },
     "execution_count": 10,
     "metadata": {},
     "output_type": "execute_result"
    }
   ],
   "source": [
    "authorActionDetails = chatDataframe[chatDataframe['AuthorAction'].notnull() ]\n",
    "authorActionDetails.head()"
   ]
  },
  {
   "cell_type": "code",
   "execution_count": 17,
   "metadata": {},
   "outputs": [
    {
     "name": "stderr",
     "output_type": "stream",
     "text": [
      "C:\\ProgramData\\Anaconda3\\lib\\site-packages\\ipykernel_launcher.py:2: SettingWithCopyWarning: \n",
      "A value is trying to be set on a copy of a slice from a DataFrame.\n",
      "Try using .loc[row_indexer,col_indexer] = value instead\n",
      "\n",
      "See the caveats in the documentation: http://pandas.pydata.org/pandas-docs/stable/user_guide/indexing.html#returning-a-view-versus-a-copy\n",
      "  \n"
     ]
    },
    {
     "data": {
      "text/html": [
       "<div>\n",
       "<style scoped>\n",
       "    .dataframe tbody tr th:only-of-type {\n",
       "        vertical-align: middle;\n",
       "    }\n",
       "\n",
       "    .dataframe tbody tr th {\n",
       "        vertical-align: top;\n",
       "    }\n",
       "\n",
       "    .dataframe thead th {\n",
       "        text-align: right;\n",
       "    }\n",
       "</style>\n",
       "<table border=\"1\" class=\"dataframe\">\n",
       "  <thead>\n",
       "    <tr style=\"text-align: right;\">\n",
       "      <th></th>\n",
       "      <th>Date</th>\n",
       "      <th>Time</th>\n",
       "      <th>Author</th>\n",
       "      <th>Message</th>\n",
       "      <th>AuthorAction</th>\n",
       "    </tr>\n",
       "  </thead>\n",
       "  <tbody>\n",
       "    <tr>\n",
       "      <td>720</td>\n",
       "      <td>10/10/16</td>\n",
       "      <td>20:15</td>\n",
       "      <td>None</td>\n",
       "      <td>None</td>\n",
       "      <td>AmshaPriya Nandhakumar added Prameela Gurusamy</td>\n",
       "    </tr>\n",
       "    <tr>\n",
       "      <td>1394</td>\n",
       "      <td>5/10/17</td>\n",
       "      <td>11:31</td>\n",
       "      <td>None</td>\n",
       "      <td>None</td>\n",
       "      <td>AmshaPriya Nandhakumar added Angulakshmi Dhan...</td>\n",
       "    </tr>\n",
       "    <tr>\n",
       "      <td>1811</td>\n",
       "      <td>8/22/17</td>\n",
       "      <td>13:38</td>\n",
       "      <td>None</td>\n",
       "      <td>None</td>\n",
       "      <td>AmshaPriya Nandhakumar added Uma Gurusamy</td>\n",
       "    </tr>\n",
       "    <tr>\n",
       "      <td>1812</td>\n",
       "      <td>8/22/17</td>\n",
       "      <td>13:38</td>\n",
       "      <td>None</td>\n",
       "      <td>None</td>\n",
       "      <td>AmshaPriya Nandhakumar added Thatha</td>\n",
       "    </tr>\n",
       "    <tr>\n",
       "      <td>1813</td>\n",
       "      <td>8/22/17</td>\n",
       "      <td>13:39</td>\n",
       "      <td>None</td>\n",
       "      <td>None</td>\n",
       "      <td>AmshaPriya Nandhakumar added Rama Prabha Guru...</td>\n",
       "    </tr>\n",
       "    <tr>\n",
       "      <td>2051</td>\n",
       "      <td>11/2/17</td>\n",
       "      <td>19:59</td>\n",
       "      <td>None</td>\n",
       "      <td>None</td>\n",
       "      <td>AmshaPriya Nandhakumar added Uma Gurusamy</td>\n",
       "    </tr>\n",
       "    <tr>\n",
       "      <td>6500</td>\n",
       "      <td>9/24/19</td>\n",
       "      <td>08:32</td>\n",
       "      <td>None</td>\n",
       "      <td>None</td>\n",
       "      <td>Nandhakumar Muthusamy added Angulakshmi Dhand...</td>\n",
       "    </tr>\n",
       "  </tbody>\n",
       "</table>\n",
       "</div>"
      ],
      "text/plain": [
       "          Date     Time Author Message  \\\n",
       "720   10/10/16   20:15    None    None   \n",
       "1394   5/10/17   11:31    None    None   \n",
       "1811   8/22/17   13:38    None    None   \n",
       "1812   8/22/17   13:38    None    None   \n",
       "1813   8/22/17   13:39    None    None   \n",
       "2051   11/2/17   19:59    None    None   \n",
       "6500   9/24/19   08:32    None    None   \n",
       "\n",
       "                                           AuthorAction  \n",
       "720      AmshaPriya Nandhakumar added Prameela Gurusamy  \n",
       "1394   AmshaPriya Nandhakumar added Angulakshmi Dhan...  \n",
       "1811          AmshaPriya Nandhakumar added Uma Gurusamy  \n",
       "1812                AmshaPriya Nandhakumar added Thatha  \n",
       "1813   AmshaPriya Nandhakumar added Rama Prabha Guru...  \n",
       "2051          AmshaPriya Nandhakumar added Uma Gurusamy  \n",
       "6500   Nandhakumar Muthusamy added Angulakshmi Dhand...  "
      ]
     },
     "execution_count": 17,
     "metadata": {},
     "output_type": "execute_result"
    }
   ],
   "source": [
    "addedDetails = authorActionDetails[authorActionDetails['AuthorAction'].str.contains('added')]\n",
    "addedDetails['AuthorAction'] = authorActionDetails['AuthorAction'].str.replace('\\n','')\n",
    "addedDetails"
   ]
  },
  {
   "cell_type": "code",
   "execution_count": 47,
   "metadata": {},
   "outputs": [
    {
     "name": "stderr",
     "output_type": "stream",
     "text": [
      "C:\\ProgramData\\Anaconda3\\lib\\site-packages\\ipykernel_launcher.py:2: SettingWithCopyWarning: \n",
      "A value is trying to be set on a copy of a slice from a DataFrame.\n",
      "Try using .loc[row_indexer,col_indexer] = value instead\n",
      "\n",
      "See the caveats in the documentation: http://pandas.pydata.org/pandas-docs/stable/user_guide/indexing.html#returning-a-view-versus-a-copy\n",
      "  \n",
      "C:\\ProgramData\\Anaconda3\\lib\\site-packages\\ipykernel_launcher.py:3: SettingWithCopyWarning: \n",
      "A value is trying to be set on a copy of a slice from a DataFrame.\n",
      "Try using .loc[row_indexer,col_indexer] = value instead\n",
      "\n",
      "See the caveats in the documentation: http://pandas.pydata.org/pandas-docs/stable/user_guide/indexing.html#returning-a-view-versus-a-copy\n",
      "  This is separate from the ipykernel package so we can avoid doing imports until\n"
     ]
    },
    {
     "data": {
      "text/html": [
       "<div>\n",
       "<style scoped>\n",
       "    .dataframe tbody tr th:only-of-type {\n",
       "        vertical-align: middle;\n",
       "    }\n",
       "\n",
       "    .dataframe tbody tr th {\n",
       "        vertical-align: top;\n",
       "    }\n",
       "\n",
       "    .dataframe thead th {\n",
       "        text-align: right;\n",
       "    }\n",
       "</style>\n",
       "<table border=\"1\" class=\"dataframe\">\n",
       "  <thead>\n",
       "    <tr style=\"text-align: right;\">\n",
       "      <th></th>\n",
       "      <th>Date</th>\n",
       "      <th>Time</th>\n",
       "      <th>Added By</th>\n",
       "      <th>Added Person</th>\n",
       "    </tr>\n",
       "  </thead>\n",
       "  <tbody>\n",
       "    <tr>\n",
       "      <td>720</td>\n",
       "      <td>10/10/16</td>\n",
       "      <td>20:15</td>\n",
       "      <td>AmshaPriya Nandhakumar</td>\n",
       "      <td>Prameela Gurusamy</td>\n",
       "    </tr>\n",
       "    <tr>\n",
       "      <td>1394</td>\n",
       "      <td>5/10/17</td>\n",
       "      <td>11:31</td>\n",
       "      <td>AmshaPriya Nandhakumar</td>\n",
       "      <td>Angulakshmi Dhandapani</td>\n",
       "    </tr>\n",
       "    <tr>\n",
       "      <td>1811</td>\n",
       "      <td>8/22/17</td>\n",
       "      <td>13:38</td>\n",
       "      <td>AmshaPriya Nandhakumar</td>\n",
       "      <td>Uma Gurusamy</td>\n",
       "    </tr>\n",
       "    <tr>\n",
       "      <td>1812</td>\n",
       "      <td>8/22/17</td>\n",
       "      <td>13:38</td>\n",
       "      <td>AmshaPriya Nandhakumar</td>\n",
       "      <td>Thatha</td>\n",
       "    </tr>\n",
       "    <tr>\n",
       "      <td>1813</td>\n",
       "      <td>8/22/17</td>\n",
       "      <td>13:39</td>\n",
       "      <td>AmshaPriya Nandhakumar</td>\n",
       "      <td>Rama Prabha Gurusamy</td>\n",
       "    </tr>\n",
       "    <tr>\n",
       "      <td>2051</td>\n",
       "      <td>11/2/17</td>\n",
       "      <td>19:59</td>\n",
       "      <td>AmshaPriya Nandhakumar</td>\n",
       "      <td>Uma Gurusamy</td>\n",
       "    </tr>\n",
       "    <tr>\n",
       "      <td>6500</td>\n",
       "      <td>9/24/19</td>\n",
       "      <td>08:32</td>\n",
       "      <td>Nandhakumar Muthusamy</td>\n",
       "      <td>Angulakshmi Dhandapani</td>\n",
       "    </tr>\n",
       "  </tbody>\n",
       "</table>\n",
       "</div>"
      ],
      "text/plain": [
       "          Date     Time                  Added By             Added Person\n",
       "720   10/10/16   20:15    AmshaPriya Nandhakumar         Prameela Gurusamy\n",
       "1394   5/10/17   11:31    AmshaPriya Nandhakumar    Angulakshmi Dhandapani\n",
       "1811   8/22/17   13:38    AmshaPriya Nandhakumar              Uma Gurusamy\n",
       "1812   8/22/17   13:38    AmshaPriya Nandhakumar                    Thatha\n",
       "1813   8/22/17   13:39    AmshaPriya Nandhakumar      Rama Prabha Gurusamy\n",
       "2051   11/2/17   19:59    AmshaPriya Nandhakumar              Uma Gurusamy\n",
       "6500   9/24/19   08:32     Nandhakumar Muthusamy    Angulakshmi Dhandapani"
      ]
     },
     "execution_count": 47,
     "metadata": {},
     "output_type": "execute_result"
    }
   ],
   "source": [
    "splitAction = addedDetails['AuthorAction'].str.split('added',n=1,expand=True)\n",
    "addedDetails['Added By'] = splitAction[0]\n",
    "addedDetails['Added Person'] = splitAction[1]\n",
    "addedDetail = addedDetails.drop( columns =['Author','Message','AuthorAction'],axis =1,inplace=False)\n",
    "addedDetail\n"
   ]
  },
  {
   "cell_type": "code",
   "execution_count": 51,
   "metadata": {},
   "outputs": [
    {
     "name": "stderr",
     "output_type": "stream",
     "text": [
      "C:\\ProgramData\\Anaconda3\\lib\\site-packages\\ipykernel_launcher.py:2: SettingWithCopyWarning: \n",
      "A value is trying to be set on a copy of a slice from a DataFrame.\n",
      "Try using .loc[row_indexer,col_indexer] = value instead\n",
      "\n",
      "See the caveats in the documentation: http://pandas.pydata.org/pandas-docs/stable/user_guide/indexing.html#returning-a-view-versus-a-copy\n",
      "  \n"
     ]
    },
    {
     "data": {
      "text/html": [
       "<div>\n",
       "<style scoped>\n",
       "    .dataframe tbody tr th:only-of-type {\n",
       "        vertical-align: middle;\n",
       "    }\n",
       "\n",
       "    .dataframe tbody tr th {\n",
       "        vertical-align: top;\n",
       "    }\n",
       "\n",
       "    .dataframe thead th {\n",
       "        text-align: right;\n",
       "    }\n",
       "</style>\n",
       "<table border=\"1\" class=\"dataframe\">\n",
       "  <thead>\n",
       "    <tr style=\"text-align: right;\">\n",
       "      <th></th>\n",
       "      <th>Date</th>\n",
       "      <th>Time</th>\n",
       "      <th>AuthorAction</th>\n",
       "    </tr>\n",
       "  </thead>\n",
       "  <tbody>\n",
       "    <tr>\n",
       "      <td>1749</td>\n",
       "      <td>7/21/17</td>\n",
       "      <td>08:14</td>\n",
       "      <td>Uma Gurusamy left</td>\n",
       "    </tr>\n",
       "    <tr>\n",
       "      <td>1773</td>\n",
       "      <td>8/17/17</td>\n",
       "      <td>11:55</td>\n",
       "      <td>Rama Prabha Gurusamy left</td>\n",
       "    </tr>\n",
       "    <tr>\n",
       "      <td>2026</td>\n",
       "      <td>10/18/17</td>\n",
       "      <td>13:29</td>\n",
       "      <td>Uma Gurusamy left</td>\n",
       "    </tr>\n",
       "    <tr>\n",
       "      <td>2632</td>\n",
       "      <td>1/29/18</td>\n",
       "      <td>08:30</td>\n",
       "      <td>Angulakshmi Dhandapani left</td>\n",
       "    </tr>\n",
       "  </tbody>\n",
       "</table>\n",
       "</div>"
      ],
      "text/plain": [
       "          Date     Time                  AuthorAction\n",
       "1749   7/21/17   08:14              Uma Gurusamy left\n",
       "1773   8/17/17   11:55      Rama Prabha Gurusamy left\n",
       "2026  10/18/17   13:29              Uma Gurusamy left\n",
       "2632   1/29/18   08:30    Angulakshmi Dhandapani left"
      ]
     },
     "execution_count": 51,
     "metadata": {},
     "output_type": "execute_result"
    }
   ],
   "source": [
    "leftDetails = authorActionDetails[authorActionDetails['AuthorAction'].str.contains('left')]\n",
    "leftDetails['AuthorAction'] = authorActionDetails['AuthorAction'].str.replace('\\n','')\n",
    "leftDetails = leftDetails.drop(columns=['Author','Message'],axis =1,inplace = False)\n",
    "leftDetails"
   ]
  },
  {
   "cell_type": "code",
   "execution_count": null,
   "metadata": {},
   "outputs": [],
   "source": []
  },
  {
   "cell_type": "code",
   "execution_count": null,
   "metadata": {},
   "outputs": [],
   "source": []
  },
  {
   "cell_type": "code",
   "execution_count": null,
   "metadata": {},
   "outputs": [],
   "source": []
  },
  {
   "cell_type": "code",
   "execution_count": null,
   "metadata": {},
   "outputs": [],
   "source": []
  },
  {
   "cell_type": "code",
   "execution_count": null,
   "metadata": {},
   "outputs": [],
   "source": []
  },
  {
   "cell_type": "code",
   "execution_count": null,
   "metadata": {},
   "outputs": [],
   "source": []
  },
  {
   "cell_type": "code",
   "execution_count": 27,
   "metadata": {},
   "outputs": [
    {
     "data": {
      "image/png": "[encoded data removed]",
      "text/plain": [
       "<Figure size 432x288 with 1 Axes>"
      ]
     },
     "metadata": {
      "needs_background": "light"
     },
     "output_type": "display_data"
    }
   ],
   "source": [
    "plt.figure()\n",
    "talkative = chatDataframe.Author.value_counts()\n",
    "talkative.plot(kind = 'bar')\n",
    "plt.show()"
   ]
  },
  {
   "cell_type": "code",
   "execution_count": null,
   "metadata": {},
   "outputs": [],
   "source": []
  },
  {
   "cell_type": "code",
   "execution_count": null,
   "metadata": {},
   "outputs": [],
   "source": []
  },
  {
   "cell_type": "code",
   "execution_count": 21,
   "metadata": {},
   "outputs": [
    {
     "name": "stdout",
     "output_type": "stream",
     "text": [
      "<class 'pandas.core.series.Series'>\n",
      "10\n",
      " Nandhakumar Muthusamy    1991\n",
      "Name: Author, dtype: int64\n"
     ]
    }
   ],
   "source": [
    "talkative = chatDataframe.Author.value_counts()\n",
    "print(type(talkative))\n",
    "print(talkative.size)\n",
    "print(talkative[:1])\n",
    "# talkative.plot.barh()"
   ]
  },
  {
   "cell_type": "code",
   "execution_count": 14,
   "metadata": {},
   "outputs": [
    {
     "data": {
      "text/plain": [
       "<matplotlib.axes._subplots.AxesSubplot at 0x1cb3af5e088>"
      ]
     },
     "execution_count": 14,
     "metadata": {},
     "output_type": "execute_result"
    },
    {
     "data": {
      "image/png": "[encoded data removed]",
      "text/plain": [
       "<Figure size 432x288 with 1 Axes>"
      ]
     },
     "metadata": {
      "needs_background": "light"
     },
     "output_type": "display_data"
    }
   ],
   "source": [
    "mediaMessage = chatDataframe[chatDataframe['Message']=='<Media omitted>\\n']\n",
    "highMediaSender = mediaMessage.Author.value_counts()\n",
    "highMediaSender.plot.barh(color = 'red')"
   ]
  },
  {
   "cell_type": "code",
   "execution_count": 24,
   "metadata": {},
   "outputs": [
    {
     "data": {
      "text/plain": [
       "<matplotlib.axes._subplots.AxesSubplot at 0x1caa3a82848>"
      ]
     },
     "execution_count": 24,
     "metadata": {},
     "output_type": "execute_result"
    },
    {
     "data": {
      "image/png": "[encoded data removed]",
      "text/plain": [
       "<Figure size 432x288 with 1 Axes>"
      ]
     },
     "metadata": {
      "needs_background": "light"
     },
     "output_type": "display_data"
    }
   ],
   "source": [
    "nonMediaMessage = chatDataframe[chatDataframe['Message']!='<Media omitted>\\n']\n",
    "nonMediaTalkative = nonMediaMessage.Author.value_counts()\n",
    "nonMediaTalkative.plot.barh(color = 'green')"
   ]
  },
  {
   "cell_type": "code",
   "execution_count": 17,
   "metadata": {
    "scrolled": true
   },
   "outputs": [
    {
     "name": "stdout",
     "output_type": "stream",
     "text": [
      "[' Nandhakumar Muthusamy', ' Uma Gurusamy', ' AmshaPriya Nandhakumar', ' Sri', ' Rama Prabha Gurusamy', ' Ammayi Airtel', ' Prameela Gurusamy', ' Thatha', ' Angulakshmi Dhandapani', ' Ammayi']\n"
     ]
    }
   ],
   "source": [
    "authorDataset = chatDataframe.Author.unique()\n",
    "author = authorDataset.tolist()\n",
    "uniqueAuthor = list(filter(None,author))\n",
    "print(uniqueAuthor)"
   ]
  },
  {
   "cell_type": "code",
   "execution_count": null,
   "metadata": {},
   "outputs": [],
   "source": [
    "countRows = []\n",
    "def countOccurence(rowValueFilter,cols):\n",
    "    new_df = chatDataframe[(chatDataframe[cols]== rowValueFilter) & (chatDataframe[cols].notnull())]\n",
    "    convertingList = new_df[cols].tolist()\n",
    "    countRows.append(len(convertingList))\n",
    "    return countRows"
   ]
  },
  {
   "cell_type": "code",
   "execution_count": 29,
   "metadata": {},
   "outputs": [
    {
     "data": {
      "text/html": [
       "<div>\n",
       "<style scoped>\n",
       "    .dataframe tbody tr th:only-of-type {\n",
       "        vertical-align: middle;\n",
       "    }\n",
       "\n",
       "    .dataframe tbody tr th {\n",
       "        vertical-align: top;\n",
       "    }\n",
       "\n",
       "    .dataframe thead th {\n",
       "        text-align: right;\n",
       "    }\n",
       "</style>\n",
       "<table border=\"1\" class=\"dataframe\">\n",
       "  <thead>\n",
       "    <tr style=\"text-align: right;\">\n",
       "      <th></th>\n",
       "      <th>Date</th>\n",
       "      <th>Time</th>\n",
       "      <th>Author</th>\n",
       "      <th>Message</th>\n",
       "      <th>AuthorAction</th>\n",
       "      <th>Hours</th>\n",
       "      <th>Mins</th>\n",
       "    </tr>\n",
       "  </thead>\n",
       "  <tbody>\n",
       "    <tr>\n",
       "      <td>0</td>\n",
       "      <td>7/15/16</td>\n",
       "      <td>19:27</td>\n",
       "      <td>Nandhakumar Muthusamy</td>\n",
       "      <td>Kekka nalla than iruuku da. Padravanga kastam ...</td>\n",
       "      <td>None</td>\n",
       "      <td>19</td>\n",
       "      <td>27</td>\n",
       "    </tr>\n",
       "    <tr>\n",
       "      <td>1</td>\n",
       "      <td>7/22/16</td>\n",
       "      <td>10:19</td>\n",
       "      <td>Nandhakumar Muthusamy</td>\n",
       "      <td>Ok. Here too 28$ for today\\n</td>\n",
       "      <td>None</td>\n",
       "      <td>10</td>\n",
       "      <td>19</td>\n",
       "    </tr>\n",
       "    <tr>\n",
       "      <td>2</td>\n",
       "      <td>7/22/16</td>\n",
       "      <td>10:19</td>\n",
       "      <td>Nandhakumar Muthusamy</td>\n",
       "      <td>From tomorrow 20$\\n</td>\n",
       "      <td>None</td>\n",
       "      <td>10</td>\n",
       "      <td>19</td>\n",
       "    </tr>\n",
       "    <tr>\n",
       "      <td>3</td>\n",
       "      <td>7/22/16</td>\n",
       "      <td>10:19</td>\n",
       "      <td>Uma Gurusamy</td>\n",
       "      <td>No mams. Athulam summa scene podranga. But com...</td>\n",
       "      <td>None</td>\n",
       "      <td>10</td>\n",
       "      <td>19</td>\n",
       "    </tr>\n",
       "    <tr>\n",
       "      <td>4</td>\n",
       "      <td>7/22/16</td>\n",
       "      <td>10:20</td>\n",
       "      <td>Uma Gurusamy</td>\n",
       "      <td>U ppl are planning to go ah mama\\n</td>\n",
       "      <td>None</td>\n",
       "      <td>10</td>\n",
       "      <td>20</td>\n",
       "    </tr>\n",
       "    <tr>\n",
       "      <td>...</td>\n",
       "      <td>...</td>\n",
       "      <td>...</td>\n",
       "      <td>...</td>\n",
       "      <td>...</td>\n",
       "      <td>...</td>\n",
       "      <td>...</td>\n",
       "      <td>...</td>\n",
       "    </tr>\n",
       "    <tr>\n",
       "      <td>8263</td>\n",
       "      <td>9/11/20</td>\n",
       "      <td>21:15</td>\n",
       "      <td>Uma Gurusamy</td>\n",
       "      <td>Super. 🥰\\n</td>\n",
       "      <td>None</td>\n",
       "      <td>21</td>\n",
       "      <td>15</td>\n",
       "    </tr>\n",
       "    <tr>\n",
       "      <td>8264</td>\n",
       "      <td>9/11/20</td>\n",
       "      <td>21:18</td>\n",
       "      <td>Prameela Gurusamy</td>\n",
       "      <td>This message was deleted\\n</td>\n",
       "      <td>None</td>\n",
       "      <td>21</td>\n",
       "      <td>18</td>\n",
       "    </tr>\n",
       "    <tr>\n",
       "      <td>8265</td>\n",
       "      <td>9/11/20</td>\n",
       "      <td>21:33</td>\n",
       "      <td>Angulakshmi Dhandapani</td>\n",
       "      <td>Super da\\n</td>\n",
       "      <td>None</td>\n",
       "      <td>21</td>\n",
       "      <td>33</td>\n",
       "    </tr>\n",
       "    <tr>\n",
       "      <td>8266</td>\n",
       "      <td>9/11/20</td>\n",
       "      <td>21:39</td>\n",
       "      <td>Angulakshmi Dhandapani</td>\n",
       "      <td>Rochit  kutty super\\n</td>\n",
       "      <td>None</td>\n",
       "      <td>21</td>\n",
       "      <td>39</td>\n",
       "    </tr>\n",
       "    <tr>\n",
       "      <td>8267</td>\n",
       "      <td>9/11/20</td>\n",
       "      <td>22:04</td>\n",
       "      <td>AmshaPriya Nandhakumar</td>\n",
       "      <td>Dimple kutty cute\\n</td>\n",
       "      <td>None</td>\n",
       "      <td>22</td>\n",
       "      <td>04</td>\n",
       "    </tr>\n",
       "  </tbody>\n",
       "</table>\n",
       "<p>8268 rows × 7 columns</p>\n",
       "</div>"
      ],
      "text/plain": [
       "         Date     Time                   Author  \\\n",
       "0     7/15/16   19:27     Nandhakumar Muthusamy   \n",
       "1     7/22/16   10:19     Nandhakumar Muthusamy   \n",
       "2     7/22/16   10:19     Nandhakumar Muthusamy   \n",
       "3     7/22/16   10:19              Uma Gurusamy   \n",
       "4     7/22/16   10:20              Uma Gurusamy   \n",
       "...       ...      ...                      ...   \n",
       "8263  9/11/20   21:15              Uma Gurusamy   \n",
       "8264  9/11/20   21:18         Prameela Gurusamy   \n",
       "8265  9/11/20   21:33    Angulakshmi Dhandapani   \n",
       "8266  9/11/20   21:39    Angulakshmi Dhandapani   \n",
       "8267  9/11/20   22:04    AmshaPriya Nandhakumar   \n",
       "\n",
       "                                                Message AuthorAction Hours  \\\n",
       "0     Kekka nalla than iruuku da. Padravanga kastam ...         None    19   \n",
       "1                          Ok. Here too 28$ for today\\n         None    10   \n",
       "2                                   From tomorrow 20$\\n         None    10   \n",
       "3     No mams. Athulam summa scene podranga. But com...         None    10   \n",
       "4                    U ppl are planning to go ah mama\\n         None    10   \n",
       "...                                                 ...          ...   ...   \n",
       "8263                                         Super. 🥰\\n         None    21   \n",
       "8264                         This message was deleted\\n         None    21   \n",
       "8265                                         Super da\\n         None    21   \n",
       "8266                              Rochit  kutty super\\n         None    21   \n",
       "8267                                Dimple kutty cute\\n         None    22   \n",
       "\n",
       "     Mins  \n",
       "0     27   \n",
       "1     19   \n",
       "2     19   \n",
       "3     19   \n",
       "4     20   \n",
       "...   ...  \n",
       "8263  15   \n",
       "8264  18   \n",
       "8265  33   \n",
       "8266  39   \n",
       "8267  04   \n",
       "\n",
       "[8268 rows x 7 columns]"
      ]
     },
     "execution_count": 29,
     "metadata": {},
     "output_type": "execute_result"
    }
   ],
   "source": [
    "splitTime= chatDataframe[\"Time\"].str.split(\":\",n= 1, expand = True)\n",
    "chatDataframe[\"Hours\"] = splitTime[0]\n",
    "chatDataframe[\"Mins\"] = splitTime[1]\n",
    "chatDataframe"
   ]
  },
  {
   "cell_type": "code",
   "execution_count": null,
   "metadata": {},
   "outputs": [],
   "source": [
    "timeTexted = chatDataframe.Hours.unique()\n",
    "hour = timeTexted.tolist()\n",
    "hrs = list(filter(None,hour))\n",
    "hrs.sort()\n",
    "print(hrs)"
   ]
  },
  {
   "cell_type": "code",
   "execution_count": null,
   "metadata": {},
   "outputs": [],
   "source": []
  }
 ],
 "metadata": {
  "kernelspec": {
   "display_name": "Python 3",
   "language": "python",
   "name": "python3"
  },
  "language_info": {
   "codemirror_mode": {
    "name": "ipython",
    "version": 3
   },
   "file_extension": ".py",
   "mimetype": "text/x-python",
   "name": "python",
   "nbconvert_exporter": "python",
   "pygments_lexer": "ipython3",
   "version": "3.7.4"
  }
 },
 "nbformat": 4,
 "nbformat_minor": 4
}
