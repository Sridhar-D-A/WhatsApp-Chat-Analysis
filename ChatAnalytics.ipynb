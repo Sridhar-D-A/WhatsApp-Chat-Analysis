{
 "cells": [
  {
   "cell_type": "markdown",
   "metadata": {},
   "source": [
    "# Simple Analysis of What's App Family Group"
   ]
  },
  {
   "cell_type": "code",
   "execution_count": 1,
   "metadata": {},
   "outputs": [],
   "source": [
    "import re\n",
    "import pandas as pd\n",
    "\n",
    "# for lines in file:\n",
    "#     if startsWithDate(lines) and intermediate:\n",
    "#         finalData.append(' '.join(intermediate))\n",
    "#         intermediate.clear()\n",
    "#     intermediate.append(lines)\n",
    "#\n",
    "# print(finalData)\n"
   ]
  },
  {
   "cell_type": "code",
   "execution_count": 2,
   "metadata": {},
   "outputs": [],
   "source": [
    "def startsWithDate(line):\n",
    "    pattern = '^([0-9]+)(\\/)([0-9]+)(\\/)([0-9]+), ([0-9]+):([0-9][0-9])'\n",
    "    result = re.match(pattern, line)\n",
    "    if result:\n",
    "        return True\n",
    "    return False"
   ]
  },
  {
   "cell_type": "code",
   "execution_count": 3,
   "metadata": {},
   "outputs": [],
   "source": [
    "def separationOfData(lines):\n",
    "    data , time , author , halfMessage , authorAction = None , None , None , None , None\n",
    "    line = lines.split('-')\n",
    "    dateTime = line[0]\n",
    "    date , time = dateTime.split(',')\n",
    "    # print(date , time)\n",
    "    authorMessage = line[1]\n",
    "    if ': ' in authorMessage:\n",
    "        authorMessage = authorMessage.split(': ')\n",
    "        author = authorMessage[0]\n",
    "        halfMessage = ''.join(authorMessage[1:])\n",
    "\n",
    "    else:\n",
    "        authorAction = line[1]\n",
    "\n",
    "    return date , time , author , halfMessage ,authorAction"
   ]
  },
  {
   "cell_type": "code",
   "execution_count": 4,
   "metadata": {},
   "outputs": [],
   "source": [
    "intermediate =[]\n",
    "finalData  = []\n",
    "def joinMultiLines(lines):\n",
    "    if startsWithDate(lines) and intermediate:\n",
    "        finalData.append(' '.join(intermediate))\n",
    "        intermediate.clear()\n",
    "    intermediate.append(lines)\n",
    "    return finalData"
   ]
  },
  {
   "cell_type": "code",
   "execution_count": 5,
   "metadata": {},
   "outputs": [],
   "source": [
    "chatFile = open('Family Conversation.txt', 'r' , encoding=\"utf8\")\n",
    "\n",
    "for lines in chatFile:\n",
    "    multiLineList = joinMultiLines(lines)\n"
   ]
  },
  {
   "cell_type": "code",
   "execution_count": 6,
   "metadata": {},
   "outputs": [],
   "source": [
    "final = []\n",
    "for element in multiLineList:\n",
    "    date , time , author , message , authorAction = separationOfData(element)\n",
    "    final.append([date,time,author,message,authorAction])\n",
    "#     print(date)\n",
    "#     final.append({'Date':date , 'Time':time , 'Author':author, 'Message':message , 'AuthorAction':authorAction})\n",
    "# print(final)"
   ]
  },
  {
   "cell_type": "code",
   "execution_count": 7,
   "metadata": {},
   "outputs": [
    {
     "data": {
      "text/html": [
       "<div>\n",
       "<style scoped>\n",
       "    .dataframe tbody tr th:only-of-type {\n",
       "        vertical-align: middle;\n",
       "    }\n",
       "\n",
       "    .dataframe tbody tr th {\n",
       "        vertical-align: top;\n",
       "    }\n",
       "\n",
       "    .dataframe thead th {\n",
       "        text-align: right;\n",
       "    }\n",
       "</style>\n",
       "<table border=\"1\" class=\"dataframe\">\n",
       "  <thead>\n",
       "    <tr style=\"text-align: right;\">\n",
       "      <th></th>\n",
       "      <th>Date</th>\n",
       "      <th>Time</th>\n",
       "      <th>Author</th>\n",
       "      <th>Message</th>\n",
       "      <th>AuthorAction</th>\n",
       "    </tr>\n",
       "  </thead>\n",
       "  <tbody>\n",
       "    <tr>\n",
       "      <td>0</td>\n",
       "      <td>7/15/16</td>\n",
       "      <td>19:27</td>\n",
       "      <td>Nandhakumar Muthusamy</td>\n",
       "      <td>Kekka nalla than iruuku da. Padravanga kastam ...</td>\n",
       "      <td>None</td>\n",
       "    </tr>\n",
       "    <tr>\n",
       "      <td>1</td>\n",
       "      <td>7/22/16</td>\n",
       "      <td>10:19</td>\n",
       "      <td>Nandhakumar Muthusamy</td>\n",
       "      <td>Ok. Here too 28$ for today\\n</td>\n",
       "      <td>None</td>\n",
       "    </tr>\n",
       "    <tr>\n",
       "      <td>2</td>\n",
       "      <td>7/22/16</td>\n",
       "      <td>10:19</td>\n",
       "      <td>Nandhakumar Muthusamy</td>\n",
       "      <td>From tomorrow 20$\\n</td>\n",
       "      <td>None</td>\n",
       "    </tr>\n",
       "    <tr>\n",
       "      <td>3</td>\n",
       "      <td>7/22/16</td>\n",
       "      <td>10:19</td>\n",
       "      <td>Uma Gurusamy</td>\n",
       "      <td>No mams. Athulam summa scene podranga. But com...</td>\n",
       "      <td>None</td>\n",
       "    </tr>\n",
       "    <tr>\n",
       "      <td>4</td>\n",
       "      <td>7/22/16</td>\n",
       "      <td>10:20</td>\n",
       "      <td>Uma Gurusamy</td>\n",
       "      <td>U ppl are planning to go ah mama\\n</td>\n",
       "      <td>None</td>\n",
       "    </tr>\n",
       "    <tr>\n",
       "      <td>...</td>\n",
       "      <td>...</td>\n",
       "      <td>...</td>\n",
       "      <td>...</td>\n",
       "      <td>...</td>\n",
       "      <td>...</td>\n",
       "    </tr>\n",
       "    <tr>\n",
       "      <td>7809</td>\n",
       "      <td>7/9/20</td>\n",
       "      <td>11:19</td>\n",
       "      <td>Sri</td>\n",
       "      <td>&lt;Media omitted&gt;\\n</td>\n",
       "      <td>None</td>\n",
       "    </tr>\n",
       "    <tr>\n",
       "      <td>7810</td>\n",
       "      <td>7/9/20</td>\n",
       "      <td>11:44</td>\n",
       "      <td>Uma Gurusamy</td>\n",
       "      <td>Thanks sri\\n</td>\n",
       "      <td>None</td>\n",
       "    </tr>\n",
       "    <tr>\n",
       "      <td>7811</td>\n",
       "      <td>7/9/20</td>\n",
       "      <td>12:17</td>\n",
       "      <td>AmshaPriya Nandhakumar</td>\n",
       "      <td>We are learning basic Python from linkedin lea...</td>\n",
       "      <td>None</td>\n",
       "    </tr>\n",
       "    <tr>\n",
       "      <td>7812</td>\n",
       "      <td>7/9/20</td>\n",
       "      <td>15:32</td>\n",
       "      <td>Uma Gurusamy</td>\n",
       "      <td>Ok ka\\n</td>\n",
       "      <td>None</td>\n",
       "    </tr>\n",
       "    <tr>\n",
       "      <td>7813</td>\n",
       "      <td>7/9/20</td>\n",
       "      <td>15:32</td>\n",
       "      <td>Uma Gurusamy</td>\n",
       "      <td>&lt;Media omitted&gt;\\n</td>\n",
       "      <td>None</td>\n",
       "    </tr>\n",
       "  </tbody>\n",
       "</table>\n",
       "<p>7814 rows × 5 columns</p>\n",
       "</div>"
      ],
      "text/plain": [
       "         Date     Time                   Author  \\\n",
       "0     7/15/16   19:27     Nandhakumar Muthusamy   \n",
       "1     7/22/16   10:19     Nandhakumar Muthusamy   \n",
       "2     7/22/16   10:19     Nandhakumar Muthusamy   \n",
       "3     7/22/16   10:19              Uma Gurusamy   \n",
       "4     7/22/16   10:20              Uma Gurusamy   \n",
       "...       ...      ...                      ...   \n",
       "7809   7/9/20   11:19                       Sri   \n",
       "7810   7/9/20   11:44              Uma Gurusamy   \n",
       "7811   7/9/20   12:17    AmshaPriya Nandhakumar   \n",
       "7812   7/9/20   15:32              Uma Gurusamy   \n",
       "7813   7/9/20   15:32              Uma Gurusamy   \n",
       "\n",
       "                                                Message AuthorAction  \n",
       "0     Kekka nalla than iruuku da. Padravanga kastam ...         None  \n",
       "1                          Ok. Here too 28$ for today\\n         None  \n",
       "2                                   From tomorrow 20$\\n         None  \n",
       "3     No mams. Athulam summa scene podranga. But com...         None  \n",
       "4                    U ppl are planning to go ah mama\\n         None  \n",
       "...                                                 ...          ...  \n",
       "7809                                  <Media omitted>\\n         None  \n",
       "7810                                       Thanks sri\\n         None  \n",
       "7811  We are learning basic Python from linkedin lea...         None  \n",
       "7812                                            Ok ka\\n         None  \n",
       "7813                                  <Media omitted>\\n         None  \n",
       "\n",
       "[7814 rows x 5 columns]"
      ]
     },
     "execution_count": 7,
     "metadata": {},
     "output_type": "execute_result"
    }
   ],
   "source": [
    "chatDataframe = pd.DataFrame(final , columns = ['Date','Time','Author','Message','AuthorAction'])\n",
    "chatDataframe"
   ]
  },
  {
   "cell_type": "code",
   "execution_count": 8,
   "metadata": {},
   "outputs": [
    {
     "data": {
      "text/html": [
       "<div>\n",
       "<style scoped>\n",
       "    .dataframe tbody tr th:only-of-type {\n",
       "        vertical-align: middle;\n",
       "    }\n",
       "\n",
       "    .dataframe tbody tr th {\n",
       "        vertical-align: top;\n",
       "    }\n",
       "\n",
       "    .dataframe thead th {\n",
       "        text-align: right;\n",
       "    }\n",
       "</style>\n",
       "<table border=\"1\" class=\"dataframe\">\n",
       "  <thead>\n",
       "    <tr style=\"text-align: right;\">\n",
       "      <th></th>\n",
       "      <th>Date</th>\n",
       "      <th>Time</th>\n",
       "      <th>Author</th>\n",
       "      <th>Message</th>\n",
       "      <th>AuthorAction</th>\n",
       "    </tr>\n",
       "  </thead>\n",
       "  <tbody>\n",
       "    <tr>\n",
       "      <td>0</td>\n",
       "      <td>7/15/16</td>\n",
       "      <td>19:27</td>\n",
       "      <td>Nandhakumar Muthusamy</td>\n",
       "      <td>Kekka nalla than iruuku da. Padravanga kastam ...</td>\n",
       "      <td>None</td>\n",
       "    </tr>\n",
       "    <tr>\n",
       "      <td>1</td>\n",
       "      <td>7/22/16</td>\n",
       "      <td>10:19</td>\n",
       "      <td>Nandhakumar Muthusamy</td>\n",
       "      <td>Ok. Here too 28$ for today\\n</td>\n",
       "      <td>None</td>\n",
       "    </tr>\n",
       "    <tr>\n",
       "      <td>2</td>\n",
       "      <td>7/22/16</td>\n",
       "      <td>10:19</td>\n",
       "      <td>Nandhakumar Muthusamy</td>\n",
       "      <td>From tomorrow 20$\\n</td>\n",
       "      <td>None</td>\n",
       "    </tr>\n",
       "    <tr>\n",
       "      <td>6</td>\n",
       "      <td>7/24/16</td>\n",
       "      <td>22:40</td>\n",
       "      <td>Nandhakumar Muthusamy</td>\n",
       "      <td>👍🏻😀\\n</td>\n",
       "      <td>None</td>\n",
       "    </tr>\n",
       "    <tr>\n",
       "      <td>8</td>\n",
       "      <td>7/29/16</td>\n",
       "      <td>01:03</td>\n",
       "      <td>Nandhakumar Muthusamy</td>\n",
       "      <td>🙀🙀🙀\\n</td>\n",
       "      <td>None</td>\n",
       "    </tr>\n",
       "    <tr>\n",
       "      <td>...</td>\n",
       "      <td>...</td>\n",
       "      <td>...</td>\n",
       "      <td>...</td>\n",
       "      <td>...</td>\n",
       "      <td>...</td>\n",
       "    </tr>\n",
       "    <tr>\n",
       "      <td>7757</td>\n",
       "      <td>6/23/20</td>\n",
       "      <td>23:08</td>\n",
       "      <td>Nandhakumar Muthusamy</td>\n",
       "      <td>👌🏻👌🏻👌🏻\\n</td>\n",
       "      <td>None</td>\n",
       "    </tr>\n",
       "    <tr>\n",
       "      <td>7775</td>\n",
       "      <td>6/30/20</td>\n",
       "      <td>21:41</td>\n",
       "      <td>Nandhakumar Muthusamy</td>\n",
       "      <td>🙏🏻🙏🏻🙏🏻\\n</td>\n",
       "      <td>None</td>\n",
       "    </tr>\n",
       "    <tr>\n",
       "      <td>7792</td>\n",
       "      <td>7/2/20</td>\n",
       "      <td>21:16</td>\n",
       "      <td>Nandhakumar Muthusamy</td>\n",
       "      <td>Super cute... motta boss\\n</td>\n",
       "      <td>None</td>\n",
       "    </tr>\n",
       "    <tr>\n",
       "      <td>7795</td>\n",
       "      <td>7/3/20</td>\n",
       "      <td>22:01</td>\n",
       "      <td>Nandhakumar Muthusamy</td>\n",
       "      <td>👍🏻👍🏻\\n</td>\n",
       "      <td>None</td>\n",
       "    </tr>\n",
       "    <tr>\n",
       "      <td>7797</td>\n",
       "      <td>7/3/20</td>\n",
       "      <td>22:52</td>\n",
       "      <td>Nandhakumar Muthusamy</td>\n",
       "      <td>I haven't part of large organization for first...</td>\n",
       "      <td>None</td>\n",
       "    </tr>\n",
       "  </tbody>\n",
       "</table>\n",
       "<p>1918 rows × 5 columns</p>\n",
       "</div>"
      ],
      "text/plain": [
       "         Date     Time                  Author  \\\n",
       "0     7/15/16   19:27    Nandhakumar Muthusamy   \n",
       "1     7/22/16   10:19    Nandhakumar Muthusamy   \n",
       "2     7/22/16   10:19    Nandhakumar Muthusamy   \n",
       "6     7/24/16   22:40    Nandhakumar Muthusamy   \n",
       "8     7/29/16   01:03    Nandhakumar Muthusamy   \n",
       "...       ...      ...                     ...   \n",
       "7757  6/23/20   23:08    Nandhakumar Muthusamy   \n",
       "7775  6/30/20   21:41    Nandhakumar Muthusamy   \n",
       "7792   7/2/20   21:16    Nandhakumar Muthusamy   \n",
       "7795   7/3/20   22:01    Nandhakumar Muthusamy   \n",
       "7797   7/3/20   22:52    Nandhakumar Muthusamy   \n",
       "\n",
       "                                                Message AuthorAction  \n",
       "0     Kekka nalla than iruuku da. Padravanga kastam ...         None  \n",
       "1                          Ok. Here too 28$ for today\\n         None  \n",
       "2                                   From tomorrow 20$\\n         None  \n",
       "6                                                 👍🏻😀\\n         None  \n",
       "8                                                 🙀🙀🙀\\n         None  \n",
       "...                                                 ...          ...  \n",
       "7757                                           👌🏻👌🏻👌🏻\\n         None  \n",
       "7775                                           🙏🏻🙏🏻🙏🏻\\n         None  \n",
       "7792                         Super cute... motta boss\\n         None  \n",
       "7795                                             👍🏻👍🏻\\n         None  \n",
       "7797  I haven't part of large organization for first...         None  \n",
       "\n",
       "[1918 rows x 5 columns]"
      ]
     },
     "execution_count": 8,
     "metadata": {},
     "output_type": "execute_result"
    }
   ],
   "source": [
    "# chatDataframe.head()\n",
    "# chatDataframe.tail()\n",
    "noneCheck = chatDataframe[(chatDataframe['Author']==' Nandhakumar Muthusamy') & (chatDataframe['Author'].notnull())]\n",
    "# print(noneCheck['Date'].count)\n",
    "noneCheck\n",
    "# check = noneCheck['Author'].tolist()\n",
    "# print(len(check))\n",
    "# c = chatDataframe[chatDataframe[\"Author\"].isnull()]\n",
    "# c\n"
   ]
  },
  {
   "cell_type": "code",
   "execution_count": 9,
   "metadata": {},
   "outputs": [],
   "source": [
    "# chatDataframe[50:62]\n",
    "# chatDataframe.loc[:5]\n",
    "# chatDataframe.loc[[2]]"
   ]
  },
  {
   "cell_type": "code",
   "execution_count": 10,
   "metadata": {},
   "outputs": [],
   "source": [
    "# chatDataframe.Author.unique()\n",
    "# chatDataframe.shape"
   ]
  },
  {
   "cell_type": "code",
   "execution_count": 11,
   "metadata": {},
   "outputs": [
    {
     "name": "stdout",
     "output_type": "stream",
     "text": [
      "[' Nandhakumar Muthusamy', ' Uma Gurusamy', ' AmshaPriya Nandhakumar', ' Sri', ' Rama Prabha Gurusamy', ' Ammayi Airtel', ' Prameela Gurusamy', ' Thatha', ' Angulakshmi Dhandapani', ' Ammayi']\n"
     ]
    }
   ],
   "source": [
    "author_dataset = chatDataframe.Author.unique()\n",
    "author = author_dataset.tolist()\n",
    "author_x = list(filter(None,author))\n",
    "print(author_x)"
   ]
  },
  {
   "cell_type": "code",
   "execution_count": 12,
   "metadata": {},
   "outputs": [],
   "source": [
    "# authorCount = chatDataframe[(chatDataframe['Author']==' Nandhakumar Muthusamy') & (chatDataframe['Author'].notnull())]\n",
    "# authorCount\n",
    "authorList = []\n",
    "countList = []\n",
    "\n",
    "def authorCount(author,cols):\n",
    "    a = chatDataframe[(chatDataframe[cols]== author) & (chatDataframe[cols].notnull())]\n",
    "    authCount = a[cols].tolist()\n",
    "#     authorList.append(author)\n",
    "    countList.append(len(authCount))\n",
    "    return countList\n",
    "    "
   ]
  },
  {
   "cell_type": "code",
   "execution_count": 13,
   "metadata": {},
   "outputs": [
    {
     "name": "stdout",
     "output_type": "stream",
     "text": [
      "[1918, 1832, 1336, 615, 686, 111, 861, 289, 108, 3]\n"
     ]
    }
   ],
   "source": [
    "for i in author_x:\n",
    "    countList_y = authorCount(i,\"Author\")\n",
    "\n",
    "# print(authorList)\n",
    "print(countList_y)\n",
    "countList.clear()"
   ]
  },
  {
   "cell_type": "code",
   "execution_count": 14,
   "metadata": {},
   "outputs": [
    {
     "data": {
      "text/html": [
       "<div>\n",
       "<style scoped>\n",
       "    .dataframe tbody tr th:only-of-type {\n",
       "        vertical-align: middle;\n",
       "    }\n",
       "\n",
       "    .dataframe tbody tr th {\n",
       "        vertical-align: top;\n",
       "    }\n",
       "\n",
       "    .dataframe thead th {\n",
       "        text-align: right;\n",
       "    }\n",
       "</style>\n",
       "<table border=\"1\" class=\"dataframe\">\n",
       "  <thead>\n",
       "    <tr style=\"text-align: right;\">\n",
       "      <th></th>\n",
       "      <th>Date</th>\n",
       "      <th>Time</th>\n",
       "      <th>Author</th>\n",
       "      <th>Message</th>\n",
       "      <th>AuthorAction</th>\n",
       "      <th>Hours</th>\n",
       "      <th>Mins</th>\n",
       "    </tr>\n",
       "  </thead>\n",
       "  <tbody>\n",
       "    <tr>\n",
       "      <td>0</td>\n",
       "      <td>7/15/16</td>\n",
       "      <td>19:27</td>\n",
       "      <td>Nandhakumar Muthusamy</td>\n",
       "      <td>Kekka nalla than iruuku da. Padravanga kastam ...</td>\n",
       "      <td>None</td>\n",
       "      <td>19</td>\n",
       "      <td>27</td>\n",
       "    </tr>\n",
       "    <tr>\n",
       "      <td>1</td>\n",
       "      <td>7/22/16</td>\n",
       "      <td>10:19</td>\n",
       "      <td>Nandhakumar Muthusamy</td>\n",
       "      <td>Ok. Here too 28$ for today\\n</td>\n",
       "      <td>None</td>\n",
       "      <td>10</td>\n",
       "      <td>19</td>\n",
       "    </tr>\n",
       "    <tr>\n",
       "      <td>2</td>\n",
       "      <td>7/22/16</td>\n",
       "      <td>10:19</td>\n",
       "      <td>Nandhakumar Muthusamy</td>\n",
       "      <td>From tomorrow 20$\\n</td>\n",
       "      <td>None</td>\n",
       "      <td>10</td>\n",
       "      <td>19</td>\n",
       "    </tr>\n",
       "    <tr>\n",
       "      <td>3</td>\n",
       "      <td>7/22/16</td>\n",
       "      <td>10:19</td>\n",
       "      <td>Uma Gurusamy</td>\n",
       "      <td>No mams. Athulam summa scene podranga. But com...</td>\n",
       "      <td>None</td>\n",
       "      <td>10</td>\n",
       "      <td>19</td>\n",
       "    </tr>\n",
       "    <tr>\n",
       "      <td>4</td>\n",
       "      <td>7/22/16</td>\n",
       "      <td>10:20</td>\n",
       "      <td>Uma Gurusamy</td>\n",
       "      <td>U ppl are planning to go ah mama\\n</td>\n",
       "      <td>None</td>\n",
       "      <td>10</td>\n",
       "      <td>20</td>\n",
       "    </tr>\n",
       "    <tr>\n",
       "      <td>...</td>\n",
       "      <td>...</td>\n",
       "      <td>...</td>\n",
       "      <td>...</td>\n",
       "      <td>...</td>\n",
       "      <td>...</td>\n",
       "      <td>...</td>\n",
       "      <td>...</td>\n",
       "    </tr>\n",
       "    <tr>\n",
       "      <td>7809</td>\n",
       "      <td>7/9/20</td>\n",
       "      <td>11:19</td>\n",
       "      <td>Sri</td>\n",
       "      <td>&lt;Media omitted&gt;\\n</td>\n",
       "      <td>None</td>\n",
       "      <td>11</td>\n",
       "      <td>19</td>\n",
       "    </tr>\n",
       "    <tr>\n",
       "      <td>7810</td>\n",
       "      <td>7/9/20</td>\n",
       "      <td>11:44</td>\n",
       "      <td>Uma Gurusamy</td>\n",
       "      <td>Thanks sri\\n</td>\n",
       "      <td>None</td>\n",
       "      <td>11</td>\n",
       "      <td>44</td>\n",
       "    </tr>\n",
       "    <tr>\n",
       "      <td>7811</td>\n",
       "      <td>7/9/20</td>\n",
       "      <td>12:17</td>\n",
       "      <td>AmshaPriya Nandhakumar</td>\n",
       "      <td>We are learning basic Python from linkedin lea...</td>\n",
       "      <td>None</td>\n",
       "      <td>12</td>\n",
       "      <td>17</td>\n",
       "    </tr>\n",
       "    <tr>\n",
       "      <td>7812</td>\n",
       "      <td>7/9/20</td>\n",
       "      <td>15:32</td>\n",
       "      <td>Uma Gurusamy</td>\n",
       "      <td>Ok ka\\n</td>\n",
       "      <td>None</td>\n",
       "      <td>15</td>\n",
       "      <td>32</td>\n",
       "    </tr>\n",
       "    <tr>\n",
       "      <td>7813</td>\n",
       "      <td>7/9/20</td>\n",
       "      <td>15:32</td>\n",
       "      <td>Uma Gurusamy</td>\n",
       "      <td>&lt;Media omitted&gt;\\n</td>\n",
       "      <td>None</td>\n",
       "      <td>15</td>\n",
       "      <td>32</td>\n",
       "    </tr>\n",
       "  </tbody>\n",
       "</table>\n",
       "<p>7814 rows × 7 columns</p>\n",
       "</div>"
      ],
      "text/plain": [
       "         Date     Time                   Author  \\\n",
       "0     7/15/16   19:27     Nandhakumar Muthusamy   \n",
       "1     7/22/16   10:19     Nandhakumar Muthusamy   \n",
       "2     7/22/16   10:19     Nandhakumar Muthusamy   \n",
       "3     7/22/16   10:19              Uma Gurusamy   \n",
       "4     7/22/16   10:20              Uma Gurusamy   \n",
       "...       ...      ...                      ...   \n",
       "7809   7/9/20   11:19                       Sri   \n",
       "7810   7/9/20   11:44              Uma Gurusamy   \n",
       "7811   7/9/20   12:17    AmshaPriya Nandhakumar   \n",
       "7812   7/9/20   15:32              Uma Gurusamy   \n",
       "7813   7/9/20   15:32              Uma Gurusamy   \n",
       "\n",
       "                                                Message AuthorAction Hours  \\\n",
       "0     Kekka nalla than iruuku da. Padravanga kastam ...         None    19   \n",
       "1                          Ok. Here too 28$ for today\\n         None    10   \n",
       "2                                   From tomorrow 20$\\n         None    10   \n",
       "3     No mams. Athulam summa scene podranga. But com...         None    10   \n",
       "4                    U ppl are planning to go ah mama\\n         None    10   \n",
       "...                                                 ...          ...   ...   \n",
       "7809                                  <Media omitted>\\n         None    11   \n",
       "7810                                       Thanks sri\\n         None    11   \n",
       "7811  We are learning basic Python from linkedin lea...         None    12   \n",
       "7812                                            Ok ka\\n         None    15   \n",
       "7813                                  <Media omitted>\\n         None    15   \n",
       "\n",
       "     Mins  \n",
       "0     27   \n",
       "1     19   \n",
       "2     19   \n",
       "3     19   \n",
       "4     20   \n",
       "...   ...  \n",
       "7809  19   \n",
       "7810  44   \n",
       "7811  17   \n",
       "7812  32   \n",
       "7813  32   \n",
       "\n",
       "[7814 rows x 7 columns]"
      ]
     },
     "execution_count": 14,
     "metadata": {},
     "output_type": "execute_result"
    }
   ],
   "source": [
    "addingTime= chatDataframe[\"Time\"].str.split(\":\",n= 1, expand = True)\n",
    "# timeHrs.iloc[:,0]\n",
    "chatDataframe[\"Hours\"] = addingTime[0]\n",
    "chatDataframe[\"Mins\"] = addingTime[1]\n",
    "chatDataframe\n",
    "# print(type(new))"
   ]
  },
  {
   "cell_type": "code",
   "execution_count": 15,
   "metadata": {},
   "outputs": [
    {
     "name": "stdout",
     "output_type": "stream",
     "text": [
      "[' 00', ' 01', ' 02', ' 03', ' 04', ' 05', ' 06', ' 07', ' 08', ' 09', ' 10', ' 11', ' 12', ' 13', ' 14', ' 15', ' 16', ' 17', ' 18', ' 19', ' 20', ' 21', ' 22', ' 23']\n"
     ]
    }
   ],
   "source": [
    "hours_x = chatDataframe.Hours.unique()\n",
    "hour_x = hours_x.tolist()\n",
    "hrs = list(filter(None,hour_x))\n",
    "hrs.sort()\n",
    "print(hrs)"
   ]
  },
  {
   "cell_type": "code",
   "execution_count": 16,
   "metadata": {},
   "outputs": [
    {
     "name": "stdout",
     "output_type": "stream",
     "text": [
      "[211, 88, 35, 117, 63, 134, 289, 330, 554, 339, 602, 451, 339, 203, 137, 181, 135, 132, 198, 372, 599, 875, 864, 566]\n",
      "24\n"
     ]
    }
   ],
   "source": [
    "for x in hrs:\n",
    "    countHrs_y = authorCount(x,\"Hours\")\n",
    "\n",
    "print(countHrs_y)\n",
    "print(len(countHrs_y))"
   ]
  },
  {
   "cell_type": "code",
   "execution_count": 17,
   "metadata": {},
   "outputs": [],
   "source": [
    "import matplotlib.pyplot as plt"
   ]
  },
  {
   "cell_type": "code",
   "execution_count": 18,
   "metadata": {},
   "outputs": [
    {
     "data": {
      "image/png": "[encoded data removed]",
      "text/plain": [
       "<Figure size 432x288 with 1 Axes>"
      ]
     },
     "metadata": {
      "needs_background": "light"
     },
     "output_type": "display_data"
    }
   ],
   "source": [
    "fig = plt.figure()\n",
    "ax = fig.add_axes([0,0,2,1])\n",
    "ax.bar(hrs,countHrs_y,color = 'g')\n",
    "ax.set_xlabel(\"Time in Hrs\")\n",
    "ax.set_ylabel(\"Messages Count\")\n",
    "plt.show()"
   ]
  },
  {
   "cell_type": "code",
   "execution_count": 20,
   "metadata": {},
   "outputs": [],
   "source": [
    "# fig = plt.figure()\n",
    "# ax = fig.add_axes([0,0,2,1])\n",
    "# ax.axis('equal')\n",
    "# ax.pie(countList_y, labels = author,autopct='%1.2f%%')\n",
    "# plt.show()"
   ]
  },
  {
   "cell_type": "code",
   "execution_count": 21,
   "metadata": {},
   "outputs": [
    {
     "name": "stdout",
     "output_type": "stream",
     "text": [
      " Nandhakumar Muthusamy     1918\n",
      " Uma Gurusamy              1832\n",
      " AmshaPriya Nandhakumar    1336\n",
      " Prameela Gurusamy          861\n",
      " Rama Prabha Gurusamy       686\n",
      " Sri                        615\n",
      " Thatha                     289\n",
      " Ammayi Airtel              111\n",
      " Angulakshmi Dhandapani     108\n",
      " Ammayi                       3\n",
      "Name: Author, dtype: int64\n"
     ]
    },
    {
     "data": {
      "text/plain": [
       "<matplotlib.axes._subplots.AxesSubplot at 0x23b7d8a20c8>"
      ]
     },
     "execution_count": 21,
     "metadata": {},
     "output_type": "execute_result"
    },
    {
     "data": {
      "image/png": "[encoded data removed]",
      "text/plain": [
       "<Figure size 432x288 with 1 Axes>"
      ]
     },
     "metadata": {
      "needs_background": "light"
     },
     "output_type": "display_data"
    }
   ],
   "source": [
    "talkative = chatDataframe.Author.value_counts()\n",
    "print(talkative)\n",
    "talkative.plot.barh(color = 'green')"
   ]
  },
  {
   "cell_type": "code",
   "execution_count": 22,
   "metadata": {},
   "outputs": [
    {
     "data": {
      "text/plain": [
       "<matplotlib.axes._subplots.AxesSubplot at 0x23b7da6d5c8>"
      ]
     },
     "execution_count": 22,
     "metadata": {},
     "output_type": "execute_result"
    },
    {
     "data": {
      "image/png": "[encoded data removed]",
      "text/plain": [
       "<Figure size 432x288 with 1 Axes>"
      ]
     },
     "metadata": {
      "needs_background": "light"
     },
     "output_type": "display_data"
    }
   ],
   "source": [
    "mediaMessage = chatDataframe[chatDataframe['Message']=='<Media omitted>\\n']\n",
    "highMediaSender = mediaMessage.Author.value_counts()\n",
    "# print(highMediaSender)\n",
    "highMediaSender.plot.barh()"
   ]
  },
  {
   "cell_type": "code",
   "execution_count": 23,
   "metadata": {},
   "outputs": [],
   "source": [
    "# talkative = chatDataframe.Author.value_counts()\n",
    "# mediaSender = chatDataframe[chatDataframe['Message'] == '<Media omitted>\\n']\n",
    "# df = pd.DataFrame({'Message': talkative,\n",
    "#                    'Media': mediaSender})\n",
    "# df.plot.barh()"
   ]
  },
  {
   "cell_type": "code",
   "execution_count": 24,
   "metadata": {},
   "outputs": [
    {
     "name": "stdout",
     "output_type": "stream",
     "text": [
      " Uma Gurusamy              1339\n",
      " AmshaPriya Nandhakumar     966\n",
      " Nandhakumar Muthusamy      832\n",
      " Prameela Gurusamy          592\n",
      " Rama Prabha Gurusamy       482\n",
      " Sri                        460\n",
      " Angulakshmi Dhandapani      74\n",
      " Thatha                      71\n",
      " Ammayi Airtel               17\n",
      "Name: Author, dtype: int64\n"
     ]
    },
    {
     "data": {
      "text/plain": [
       "<matplotlib.axes._subplots.AxesSubplot at 0x23b7cdcb0c8>"
      ]
     },
     "execution_count": 24,
     "metadata": {},
     "output_type": "execute_result"
    },
    {
     "data": {
      "image/png": "[encoded data removed]",
      "text/plain": [
       "<Figure size 432x288 with 1 Axes>"
      ]
     },
     "metadata": {
      "needs_background": "light"
     },
     "output_type": "display_data"
    }
   ],
   "source": [
    "nonMediaMessage = chatDataframe[chatDataframe['Message']!='<Media omitted>\\n']\n",
    "nonMediaTalkative = nonMediaMessage.Author.value_counts()\n",
    "print(nonMediaTalkative)\n",
    "nonMediaTalkative.plot.area()"
   ]
  },
  {
   "cell_type": "code",
   "execution_count": 26,
   "metadata": {},
   "outputs": [],
   "source": [
    "# timeFrame = chatDataframe['Time'].tolist()\n",
    "# peakTime = [hr[0] for hr in timeFrame: hr.split(':')]\n",
    "# print(peakTime)\n",
    "timeFrame = chatDataframe.Time.str.split(':')\n",
    "# print(timeFrame)\n",
    "# timewithChat = pd.concat([chatDataframe,timeFrame],axis =1)\n",
    "# timewithChat."
   ]
  }
 ],
 "metadata": {
  "kernelspec": {
   "display_name": "Python 3",
   "language": "python",
   "name": "python3"
  },
  "language_info": {
   "codemirror_mode": {
    "name": "ipython",
    "version": 3
   },
   "file_extension": ".py",
   "mimetype": "text/x-python",
   "name": "python",
   "nbconvert_exporter": "python",
   "pygments_lexer": "ipython3",
   "version": "3.7.4"
  }
 },
 "nbformat": 4,
 "nbformat_minor": 4
}
